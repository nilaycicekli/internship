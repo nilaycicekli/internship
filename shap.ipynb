{
 "cells": [
  {
   "cell_type": "markdown",
   "id": "481040f1",
   "metadata": {},
   "source": [
    "## step 1: import libraries"
   ]
  },
  {
   "cell_type": "code",
   "execution_count": 2,
   "id": "0e3f5829",
   "metadata": {},
   "outputs": [],
   "source": [
    "# Some auxiliary imports for the tutorial\n",
    "import sys\n",
    "import random\n",
    "import numpy as np\n",
    "from pprint import pprint\n",
    "from sklearn import datasets\n",
    "from sklearn.model_selection import train_test_split\n",
    "from sklearn.ensemble import RandomForestClassifier\n",
    "import shap\n",
    "import os"
   ]
  },
  {
   "cell_type": "code",
   "execution_count": 3,
   "id": "676ca19b",
   "metadata": {},
   "outputs": [],
   "source": [
    "# Set seed for reproducibility\n",
    "np.random.seed(123456)"
   ]
  },
  {
   "cell_type": "code",
   "execution_count": 4,
   "id": "ad91f58d",
   "metadata": {},
   "outputs": [],
   "source": [
    "# Main Contextual AI imports\n",
    "import xai\n",
    "from xai.explainer import ExplainerFactory"
   ]
  },
  {
   "cell_type": "markdown",
   "id": "39bab2d8",
   "metadata": {},
   "source": [
    "## Step 2: Train a model on a sample dataset"
   ]
  },
  {
   "cell_type": "code",
   "execution_count": 5,
   "id": "75a13118",
   "metadata": {},
   "outputs": [],
   "source": [
    "# Load the dataset and prepare training and test sets\n",
    "raw_data = datasets.load_breast_cancer()\n",
    "X, y = raw_data['data'], raw_data['target']\n",
    "X_train, X_test, y_train, y_test = train_test_split(X, y, test_size=0.2)"
   ]
  },
  {
   "cell_type": "markdown",
   "id": "980e5f3a",
   "metadata": {},
   "source": [
    "## Step 3: Instantiate the explainer"
   ]
  },
  {
   "cell_type": "code",
   "execution_count": 6,
   "id": "7a4662eb",
   "metadata": {},
   "outputs": [
    {
     "data": {
      "text/plain": [
       "0.9649122807017544"
      ]
     },
     "execution_count": 6,
     "metadata": {},
     "output_type": "execute_result"
    }
   ],
   "source": [
    "# Instantiate a classifier, train, and evaluate on test set\n",
    "clf = RandomForestClassifier()\n",
    "clf.fit(X_train, y_train)\n",
    "clf.score(X_test, y_test)"
   ]
  },
  {
   "cell_type": "code",
   "execution_count": 7,
   "id": "81370072",
   "metadata": {},
   "outputs": [
    {
     "data": {
      "text/plain": [
       "dict_keys(['data', 'target', 'target_names', 'DESCR', 'feature_names', 'filename'])"
      ]
     },
     "execution_count": 7,
     "metadata": {},
     "output_type": "execute_result"
    }
   ],
   "source": [
    "raw_data.keys()"
   ]
  },
  {
   "cell_type": "markdown",
   "id": "1ecead72",
   "metadata": {},
   "source": [
    "## Step 4: Build the explainer "
   ]
  },
  {
   "cell_type": "code",
   "execution_count": 9,
   "id": "b270fc60",
   "metadata": {},
   "outputs": [],
   "source": [
    "# Instantiate SHAPTabularExplainer(?) via the ExplainerFactory interface\n",
    "explainer = ExplainerFactory.get_explainer(domain=xai.DOMAIN.TABULAR, algorithm=xai.ALG.SHAP)"
   ]
  },
  {
   "cell_type": "code",
   "execution_count": 10,
   "id": "6f6d4cba",
   "metadata": {},
   "outputs": [
    {
     "name": "stderr",
     "output_type": "stream",
     "text": [
      "Using 455 background data samples could cause slower run times. Consider using shap.sample(data, K) or shap.kmeans(data, K) to summarize the background as K samples.\n"
     ]
    }
   ],
   "source": [
    "# build the explainer (parameters are different than LIME)\n",
    "explainer.build_explainer(\n",
    "    predict_fn=clf.predict_proba,\n",
    "    training_data=X_train,\n",
    "    feature_names=raw_data['feature_names']\n",
    ")"
   ]
  },
  {
   "cell_type": "code",
   "execution_count": 8,
   "id": "fda266fd",
   "metadata": {},
   "outputs": [
    {
     "data": {
      "text/plain": [
       "array(['mean radius', 'mean texture', 'mean perimeter', 'mean area',\n",
       "       'mean smoothness', 'mean compactness', 'mean concavity',\n",
       "       'mean concave points', 'mean symmetry', 'mean fractal dimension',\n",
       "       'radius error', 'texture error', 'perimeter error', 'area error',\n",
       "       'smoothness error', 'compactness error', 'concavity error',\n",
       "       'concave points error', 'symmetry error',\n",
       "       'fractal dimension error', 'worst radius', 'worst texture',\n",
       "       'worst perimeter', 'worst area', 'worst smoothness',\n",
       "       'worst compactness', 'worst concavity', 'worst concave points',\n",
       "       'worst symmetry', 'worst fractal dimension'], dtype='<U23')"
      ]
     },
     "execution_count": 8,
     "metadata": {},
     "output_type": "execute_result"
    }
   ],
   "source": [
    "raw_data['feature_names']"
   ]
  },
  {
   "cell_type": "markdown",
   "id": "a57aceb8",
   "metadata": {},
   "source": [
    "## Step 5: Generate some explanations"
   ]
  },
  {
   "cell_type": "code",
   "execution_count": 11,
   "id": "01899109",
   "metadata": {},
   "outputs": [
    {
     "data": {
      "text/plain": [
       "array([[0., 1.]])"
      ]
     },
     "execution_count": 11,
     "metadata": {},
     "output_type": "execute_result"
    }
   ],
   "source": [
    "clf.predict_proba(X_test[0].reshape(1, -1))"
   ]
  },
  {
   "cell_type": "code",
   "execution_count": 12,
   "id": "bd292def",
   "metadata": {},
   "outputs": [
    {
     "name": "stderr",
     "output_type": "stream",
     "text": [
      "SHAP default number of samples[auto]\n"
     ]
    },
    {
     "data": {
      "application/vnd.jupyter.widget-view+json": {
       "model_id": "b2469bda33ff441c85589b5dd642d7bb",
       "version_major": 2,
       "version_minor": 0
      },
      "text/plain": [
       "  0%|          | 0/1 [00:00<?, ?it/s]"
      ]
     },
     "metadata": {},
     "output_type": "display_data"
    },
    {
     "name": "stdout",
     "output_type": "stream",
     "text": [
      "{0: {'explanation': [{'feature': 'area error = 12.26',\n",
      "                      'score': -0.051542587386196326},\n",
      "                     {'feature': 'worst radius = 10.62',\n",
      "                      'score': -0.08044701524856596},\n",
      "                     {'feature': 'worst perimeter = 66.53',\n",
      "                      'score': -0.08421252061536297},\n",
      "                     {'feature': 'worst area = 342.9',\n",
      "                      'score': -0.08011734391966127},\n",
      "                     {'feature': 'worst concave points = 0.0',\n",
      "                      'score': -0.07554866469834468}],\n",
      "     'prediction': 0.0},\n",
      " 1: {'explanation': [{'feature': 'area error = 12.26',\n",
      "                      'score': 0.05154258738619644},\n",
      "                     {'feature': 'worst radius = 10.62',\n",
      "                      'score': 0.08044701524856623},\n",
      "                     {'feature': 'worst perimeter = 66.53',\n",
      "                      'score': 0.08421252061536338},\n",
      "                     {'feature': 'worst area = 342.9',\n",
      "                      'score': 0.08011734391966188},\n",
      "                     {'feature': 'worst concave points = 0.0',\n",
      "                      'score': 0.0755486646983452}],\n",
      "     'prediction': 1.0}}\n"
     ]
    }
   ],
   "source": [
    "exp = explainer.explain_instance(\n",
    "    instance=X_test[0],\n",
    "    num_samples=None,\n",
    "    num_features=10\n",
    ")\n",
    "\n",
    "pprint(exp)"
   ]
  }
 ],
 "metadata": {
  "kernelspec": {
   "display_name": "Python 3",
   "language": "python",
   "name": "python3"
  },
  "language_info": {
   "codemirror_mode": {
    "name": "ipython",
    "version": 3
   },
   "file_extension": ".py",
   "mimetype": "text/x-python",
   "name": "python",
   "nbconvert_exporter": "python",
   "pygments_lexer": "ipython3",
   "version": "3.8.9"
  }
 },
 "nbformat": 4,
 "nbformat_minor": 5
}
